{
 "cells": [
  {
   "cell_type": "raw",
   "id": "6b928353",
   "metadata": {
    "_cell_guid": "b1076dfc-b9ad-4769-8c92-a6c4dae69d19",
    "_uuid": "8f2839f25d086af736a60e9eeb907d3b93b6e0e5",
    "papermill": {
     "duration": 0.013582,
     "end_time": "2023-06-07T06:32:08.465468",
     "exception": false,
     "start_time": "2023-06-07T06:32:08.451886",
     "status": "completed"
    },
    "tags": []
   },
   "source": [
    "# This Python 3 environment comes with many helpful analytics libraries installed\n",
    "# It is defined by the kaggle/python Docker image: https://github.com/kaggle/docker-python\n",
    "# For example, here's several helpful packages to load\n",
    "\n",
    "import numpy as np # linear algebra\n",
    "import pandas as pd # data processing, CSV file I/O (e.g. pd.read_csv)\n",
    "\n",
    "# Input data files are available in the read-only \"../input/\" directory\n",
    "# For example, running this (by clicking run or pressing Shift+Enter) will list all files under the input directory\n",
    "\n",
    "import os\n",
    "for dirname, _, filenames in os.walk('/kaggle/input'):\n",
    "    for filename in filenames:\n",
    "        print(os.path.join(dirname, filename))\n",
    "\n",
    "# You can write up to 20GB to the current directory (/kaggle/working/) that gets preserved as output when you create a version using \"Save & Run All\" \n",
    "# You can also write temporary files to /kaggle/temp/, but they won't be saved outside of the current session"
   ]
  },
  {
   "cell_type": "code",
   "execution_count": 1,
   "id": "35c4126e",
   "metadata": {
    "execution": {
     "iopub.execute_input": "2023-06-07T06:32:08.490180Z",
     "iopub.status.busy": "2023-06-07T06:32:08.489648Z",
     "iopub.status.idle": "2023-06-07T06:32:09.965604Z",
     "shell.execute_reply": "2023-06-07T06:32:09.964462Z"
    },
    "papermill": {
     "duration": 1.491715,
     "end_time": "2023-06-07T06:32:09.968485",
     "exception": false,
     "start_time": "2023-06-07T06:32:08.476770",
     "status": "completed"
    },
    "tags": []
   },
   "outputs": [
    {
     "name": "stdout",
     "output_type": "stream",
     "text": [
      "Archive:  /usr/share/nltk_data/corpora/wordnet.zip\r\n",
      "   creating: /usr/share/nltk_data/corpora/wordnet/\r\n",
      "  inflating: /usr/share/nltk_data/corpora/wordnet/lexnames  \r\n",
      "  inflating: /usr/share/nltk_data/corpora/wordnet/data.verb  \r\n",
      "  inflating: /usr/share/nltk_data/corpora/wordnet/index.adv  \r\n",
      "  inflating: /usr/share/nltk_data/corpora/wordnet/adv.exc  \r\n",
      "  inflating: /usr/share/nltk_data/corpora/wordnet/index.verb  \r\n",
      "  inflating: /usr/share/nltk_data/corpora/wordnet/cntlist.rev  \r\n",
      "  inflating: /usr/share/nltk_data/corpora/wordnet/data.adj  \r\n",
      "  inflating: /usr/share/nltk_data/corpora/wordnet/index.adj  \r\n",
      "  inflating: /usr/share/nltk_data/corpora/wordnet/LICENSE  \r\n",
      "  inflating: /usr/share/nltk_data/corpora/wordnet/citation.bib  \r\n",
      "  inflating: /usr/share/nltk_data/corpora/wordnet/noun.exc  \r\n",
      "  inflating: /usr/share/nltk_data/corpora/wordnet/verb.exc  \r\n",
      "  inflating: /usr/share/nltk_data/corpora/wordnet/README  \r\n",
      "  inflating: /usr/share/nltk_data/corpora/wordnet/index.sense  \r\n",
      "  inflating: /usr/share/nltk_data/corpora/wordnet/data.noun  \r\n",
      "  inflating: /usr/share/nltk_data/corpora/wordnet/data.adv  \r\n",
      "  inflating: /usr/share/nltk_data/corpora/wordnet/index.noun  \r\n",
      "  inflating: /usr/share/nltk_data/corpora/wordnet/adj.exc  \r\n"
     ]
    }
   ],
   "source": [
    "!unzip /usr/share/nltk_data/corpora/wordnet.zip -d /usr/share/nltk_data/corpora/"
   ]
  },
  {
   "cell_type": "markdown",
   "id": "bb491790",
   "metadata": {
    "papermill": {
     "duration": 0.01135,
     "end_time": "2023-06-07T06:32:09.991607",
     "exception": false,
     "start_time": "2023-06-07T06:32:09.980257",
     "status": "completed"
    },
    "tags": []
   },
   "source": [
    "Some random quotations : \n",
    "\n",
    "Stephen Hawking once said:\n",
    "*\"Artificial Intelligence (AI) is likely to be either the best or the worst thing to happen to humanity\"*"
   ]
  },
  {
   "cell_type": "code",
   "execution_count": 2,
   "id": "11e89305",
   "metadata": {
    "execution": {
     "iopub.execute_input": "2023-06-07T06:32:10.017080Z",
     "iopub.status.busy": "2023-06-07T06:32:10.016625Z",
     "iopub.status.idle": "2023-06-07T06:32:10.025586Z",
     "shell.execute_reply": "2023-06-07T06:32:10.024461Z"
    },
    "papermill": {
     "duration": 0.025008,
     "end_time": "2023-06-07T06:32:10.028368",
     "exception": false,
     "start_time": "2023-06-07T06:32:10.003360",
     "status": "completed"
    },
    "tags": []
   },
   "outputs": [
    {
     "data": {
      "text/plain": [
       "'Artificial Intelligence (AI) is likely to be either the best or the worst thing to happen to humanity'"
      ]
     },
     "execution_count": 2,
     "metadata": {},
     "output_type": "execute_result"
    }
   ],
   "source": [
    "sentence = \"Artificial Intelligence (AI) is likely to be either the best or the worst thing to happen to humanity\"\n",
    "sentence"
   ]
  },
  {
   "cell_type": "code",
   "execution_count": 3,
   "id": "64bfe45b",
   "metadata": {
    "execution": {
     "iopub.execute_input": "2023-06-07T06:32:10.053731Z",
     "iopub.status.busy": "2023-06-07T06:32:10.053332Z",
     "iopub.status.idle": "2023-06-07T06:32:10.059573Z",
     "shell.execute_reply": "2023-06-07T06:32:10.058436Z"
    },
    "papermill": {
     "duration": 0.022402,
     "end_time": "2023-06-07T06:32:10.062448",
     "exception": false,
     "start_time": "2023-06-07T06:32:10.040046",
     "status": "completed"
    },
    "tags": []
   },
   "outputs": [
    {
     "data": {
      "text/plain": [
       "101"
      ]
     },
     "execution_count": 3,
     "metadata": {},
     "output_type": "execute_result"
    }
   ],
   "source": [
    "# length\n",
    "len(sentence)"
   ]
  },
  {
   "cell_type": "code",
   "execution_count": 4,
   "id": "eaadfd84",
   "metadata": {
    "execution": {
     "iopub.execute_input": "2023-06-07T06:32:10.095566Z",
     "iopub.status.busy": "2023-06-07T06:32:10.094956Z",
     "iopub.status.idle": "2023-06-07T06:32:10.101789Z",
     "shell.execute_reply": "2023-06-07T06:32:10.100528Z"
    },
    "papermill": {
     "duration": 0.030115,
     "end_time": "2023-06-07T06:32:10.106568",
     "exception": false,
     "start_time": "2023-06-07T06:32:10.076453",
     "status": "completed"
    },
    "tags": []
   },
   "outputs": [
    {
     "name": "stdout",
     "output_type": "stream",
     "text": [
      "{'a', 'I', ' ', 'w', 'm', 'b', 'h', 'f', 'l', 'g', ')', 'A', 'i', 'p', 'u', 'n', 'c', 'y', 'e', 's', '(', 'r', 'o', 't', 'k'}\n",
      "25\n"
     ]
    }
   ],
   "source": [
    "# unique chars\n",
    "print (set(sentence))\n",
    "print(len(set(sentence)))"
   ]
  },
  {
   "cell_type": "code",
   "execution_count": 5,
   "id": "a496f0f1",
   "metadata": {
    "execution": {
     "iopub.execute_input": "2023-06-07T06:32:10.133680Z",
     "iopub.status.busy": "2023-06-07T06:32:10.132951Z",
     "iopub.status.idle": "2023-06-07T06:32:10.138951Z",
     "shell.execute_reply": "2023-06-07T06:32:10.137805Z"
    },
    "papermill": {
     "duration": 0.023716,
     "end_time": "2023-06-07T06:32:10.142978",
     "exception": false,
     "start_time": "2023-06-07T06:32:10.119262",
     "status": "completed"
    },
    "tags": []
   },
   "outputs": [
    {
     "name": "stdout",
     "output_type": "stream",
     "text": [
      "[' ', '(', ')', 'A', 'I', 'a', 'b', 'c', 'e', 'f', 'g', 'h', 'i', 'k', 'l', 'm', 'n', 'o', 'p', 'r', 's', 't', 'u', 'w', 'y']\n"
     ]
    }
   ],
   "source": [
    "print(sorted(set(sentence)))"
   ]
  },
  {
   "cell_type": "markdown",
   "id": "31319749",
   "metadata": {
    "papermill": {
     "duration": 0.011933,
     "end_time": "2023-06-07T06:32:10.167181",
     "exception": false,
     "start_time": "2023-06-07T06:32:10.155248",
     "status": "completed"
    },
    "tags": []
   },
   "source": [
    "**Tokenization**\n",
    "Segmenting text into tokens . \n",
    "using *NLTK*"
   ]
  },
  {
   "cell_type": "code",
   "execution_count": 6,
   "id": "9e577cb1",
   "metadata": {
    "execution": {
     "iopub.execute_input": "2023-06-07T06:32:10.194052Z",
     "iopub.status.busy": "2023-06-07T06:32:10.192874Z",
     "iopub.status.idle": "2023-06-07T06:32:12.516872Z",
     "shell.execute_reply": "2023-06-07T06:32:12.515792Z"
    },
    "papermill": {
     "duration": 2.339966,
     "end_time": "2023-06-07T06:32:12.519383",
     "exception": false,
     "start_time": "2023-06-07T06:32:10.179417",
     "status": "completed"
    },
    "tags": []
   },
   "outputs": [
    {
     "name": "stdout",
     "output_type": "stream",
     "text": [
      "['Artificial', 'Intelligence', '(', 'AI', ')', 'is', 'likely', 'to', 'be', 'either', 'the', 'best', 'or', 'the', 'worst', 'thing', 'to', 'happen', 'to', 'humanity']\n"
     ]
    }
   ],
   "source": [
    "import nltk\n",
    "from nltk.tokenize import word_tokenize \n",
    "tokenized_word  = word_tokenize(sentence)\n",
    "print(tokenized_word)"
   ]
  },
  {
   "cell_type": "markdown",
   "id": "e38515f6",
   "metadata": {
    "papermill": {
     "duration": 0.011922,
     "end_time": "2023-06-07T06:32:12.544288",
     "exception": false,
     "start_time": "2023-06-07T06:32:12.532366",
     "status": "completed"
    },
    "tags": []
   },
   "source": []
  },
  {
   "cell_type": "code",
   "execution_count": 7,
   "id": "97d0ebb9",
   "metadata": {
    "execution": {
     "iopub.execute_input": "2023-06-07T06:32:12.570550Z",
     "iopub.status.busy": "2023-06-07T06:32:12.570159Z",
     "iopub.status.idle": "2023-06-07T06:32:12.577282Z",
     "shell.execute_reply": "2023-06-07T06:32:12.576155Z"
    },
    "papermill": {
     "duration": 0.023165,
     "end_time": "2023-06-07T06:32:12.579678",
     "exception": false,
     "start_time": "2023-06-07T06:32:12.556513",
     "status": "completed"
    },
    "tags": []
   },
   "outputs": [
    {
     "data": {
      "text/plain": [
       "20"
      ]
     },
     "execution_count": 7,
     "metadata": {},
     "output_type": "execute_result"
    }
   ],
   "source": [
    "len(tokenized_word)"
   ]
  },
  {
   "cell_type": "markdown",
   "id": "f2a7a88d",
   "metadata": {
    "papermill": {
     "duration": 0.012032,
     "end_time": "2023-06-07T06:32:12.604629",
     "exception": false,
     "start_time": "2023-06-07T06:32:12.592597",
     "status": "completed"
    },
    "tags": []
   },
   "source": [
    "Now we can calculate a measure related to the lexical richness of the text: \n",
    "unique_tokens / tokens"
   ]
  },
  {
   "cell_type": "code",
   "execution_count": 8,
   "id": "ed5b32d2",
   "metadata": {
    "execution": {
     "iopub.execute_input": "2023-06-07T06:32:12.630806Z",
     "iopub.status.busy": "2023-06-07T06:32:12.630431Z",
     "iopub.status.idle": "2023-06-07T06:32:12.637617Z",
     "shell.execute_reply": "2023-06-07T06:32:12.636507Z"
    },
    "papermill": {
     "duration": 0.022937,
     "end_time": "2023-06-07T06:32:12.639892",
     "exception": false,
     "start_time": "2023-06-07T06:32:12.616955",
     "status": "completed"
    },
    "tags": []
   },
   "outputs": [
    {
     "data": {
      "text/plain": [
       "0.85"
      ]
     },
     "execution_count": 8,
     "metadata": {},
     "output_type": "execute_result"
    }
   ],
   "source": [
    "len(set(tokenized_word)) / len(tokenized_word)"
   ]
  },
  {
   "cell_type": "code",
   "execution_count": 9,
   "id": "016605ff",
   "metadata": {
    "execution": {
     "iopub.execute_input": "2023-06-07T06:32:12.667292Z",
     "iopub.status.busy": "2023-06-07T06:32:12.666417Z",
     "iopub.status.idle": "2023-06-07T06:32:12.674530Z",
     "shell.execute_reply": "2023-06-07T06:32:12.673339Z"
    },
    "papermill": {
     "duration": 0.024534,
     "end_time": "2023-06-07T06:32:12.676956",
     "exception": false,
     "start_time": "2023-06-07T06:32:12.652422",
     "status": "completed"
    },
    "tags": []
   },
   "outputs": [
    {
     "data": {
      "text/plain": [
       "['artificial',\n",
       " 'intelligence',\n",
       " '(',\n",
       " 'ai',\n",
       " ')',\n",
       " 'is',\n",
       " 'likely',\n",
       " 'to',\n",
       " 'be',\n",
       " 'either',\n",
       " 'the',\n",
       " 'best',\n",
       " 'or',\n",
       " 'the',\n",
       " 'worst',\n",
       " 'thing',\n",
       " 'to',\n",
       " 'happen',\n",
       " 'to',\n",
       " 'humanity']"
      ]
     },
     "execution_count": 9,
     "metadata": {},
     "output_type": "execute_result"
    }
   ],
   "source": [
    "# lowercasing\n",
    "tokenized_word = [w.lower() for w in tokenized_word]\n",
    "tokenized_word"
   ]
  },
  {
   "cell_type": "markdown",
   "id": "72901007",
   "metadata": {
    "papermill": {
     "duration": 0.012198,
     "end_time": "2023-06-07T06:32:12.701820",
     "exception": false,
     "start_time": "2023-06-07T06:32:12.689622",
     "status": "completed"
    },
    "tags": []
   },
   "source": [
    "Remove non alphanumeric chars"
   ]
  },
  {
   "cell_type": "code",
   "execution_count": 10,
   "id": "c84f8a31",
   "metadata": {
    "execution": {
     "iopub.execute_input": "2023-06-07T06:32:12.729584Z",
     "iopub.status.busy": "2023-06-07T06:32:12.729190Z",
     "iopub.status.idle": "2023-06-07T06:32:12.906183Z",
     "shell.execute_reply": "2023-06-07T06:32:12.904910Z"
    },
    "papermill": {
     "duration": 0.194024,
     "end_time": "2023-06-07T06:32:12.908836",
     "exception": false,
     "start_time": "2023-06-07T06:32:12.714812",
     "status": "completed"
    },
    "tags": []
   },
   "outputs": [
    {
     "name": "stdout",
     "output_type": "stream",
     "text": [
      "[nltk_data] Downloading package punkt to /usr/share/nltk_data...\n",
      "[nltk_data]   Package punkt is already up-to-date!\n"
     ]
    },
    {
     "data": {
      "text/plain": [
       "['artificial',\n",
       " 'intelligence',\n",
       " 'ai',\n",
       " 'is',\n",
       " 'likely',\n",
       " 'to',\n",
       " 'be',\n",
       " 'either',\n",
       " 'the',\n",
       " 'best',\n",
       " 'or',\n",
       " 'the',\n",
       " 'worst',\n",
       " 'thing',\n",
       " 'to',\n",
       " 'happen',\n",
       " 'to',\n",
       " 'humanity']"
      ]
     },
     "execution_count": 10,
     "metadata": {},
     "output_type": "execute_result"
    }
   ],
   "source": [
    "import re\n",
    "nltk.download(\"punkt\")\n",
    "patterns = r'[a-z0-9]+'\n",
    "tk_np = [w for w in tokenized_word if  re.search(patterns , w)]\n",
    "tk_np"
   ]
  },
  {
   "cell_type": "code",
   "execution_count": 11,
   "id": "fa2104f4",
   "metadata": {
    "execution": {
     "iopub.execute_input": "2023-06-07T06:32:12.936792Z",
     "iopub.status.busy": "2023-06-07T06:32:12.936387Z",
     "iopub.status.idle": "2023-06-07T06:32:13.335550Z",
     "shell.execute_reply": "2023-06-07T06:32:13.334414Z"
    },
    "papermill": {
     "duration": 0.416319,
     "end_time": "2023-06-07T06:32:13.338217",
     "exception": false,
     "start_time": "2023-06-07T06:32:12.921898",
     "status": "completed"
    },
    "tags": []
   },
   "outputs": [
    {
     "data": {
      "image/png": "[encoded data removed]",
      "text/plain": [
       "<Figure size 640x480 with 1 Axes>"
      ]
     },
     "metadata": {},
     "output_type": "display_data"
    }
   ],
   "source": [
    "from nltk.probability import FreqDist\n",
    "fdist = FreqDist(tk_np)\n",
    "fdist.plot(title = 'Word frequency distribution', cumulative = True)"
   ]
  },
  {
   "cell_type": "markdown",
   "id": "ddf4eb62",
   "metadata": {
    "papermill": {
     "duration": 0.013072,
     "end_time": "2023-06-07T06:32:13.365879",
     "exception": false,
     "start_time": "2023-06-07T06:32:13.352807",
     "status": "completed"
    },
    "tags": []
   },
   "source": [
    "Stop words"
   ]
  },
  {
   "cell_type": "code",
   "execution_count": 12,
   "id": "4a090900",
   "metadata": {
    "execution": {
     "iopub.execute_input": "2023-06-07T06:32:13.395361Z",
     "iopub.status.busy": "2023-06-07T06:32:13.394206Z",
     "iopub.status.idle": "2023-06-07T06:32:13.405910Z",
     "shell.execute_reply": "2023-06-07T06:32:13.404849Z"
    },
    "papermill": {
     "duration": 0.029101,
     "end_time": "2023-06-07T06:32:13.408549",
     "exception": false,
     "start_time": "2023-06-07T06:32:13.379448",
     "status": "completed"
    },
    "tags": []
   },
   "outputs": [
    {
     "name": "stdout",
     "output_type": "stream",
     "text": [
      "{'same', 'aren', 'how', 'no', \"hasn't\", 'been', \"haven't\", \"needn't\", 'do', 'is', 'by', 'both', \"doesn't\", 'm', \"won't\", \"isn't\", 'its', 'was', 'once', 'needn', \"you're\", 'through', \"shan't\", 'an', 'which', 'themselves', 'during', 'ma', 'mustn', 'who', 'about', 'having', 'over', 'theirs', \"you've\", 'very', 'himself', \"didn't\", 'just', 'haven', 't', 'this', 'then', 'did', 'her', 'that', 'against', 'and', 'in', 'each', 'couldn', 'ours', 'few', \"couldn't\", 'weren', 'doesn', 'up', \"it's\", 'have', 'to', 'ourselves', 'any', 'yourselves', 'should', 'will', \"hadn't\", 'because', 'wouldn', 'there', 'wasn', 'he', 'our', 's', 'your', 'won', 'o', 'what', 'yours', \"shouldn't\", 'a', 'of', 'she', \"you'd\", 'so', 'ain', 'off', 'we', 'not', 'some', 'if', \"weren't\", 'above', \"she's\", 'why', 'other', 'being', 'shouldn', 'it', 'll', 'but', \"mightn't\", 'd', 'these', 'am', 'hadn', 'nor', 'yourself', 'they', 'didn', 'own', \"aren't\", 'does', 'than', 'were', 'myself', 'my', 'on', 'more', \"wouldn't\", 'for', \"mustn't\", 'here', 'most', 'as', 'me', 'be', 'him', 'them', 'shan', 'with', 'below', 'further', 'from', 'isn', 'had', 'under', 'are', 'until', 'the', 'into', 'mightn', 'too', 'herself', 'doing', 'now', \"don't\", 'hers', \"that'll\", 'while', \"wasn't\", 'whom', 'their', 'before', 're', 'hasn', 'when', 'i', 'between', \"should've\", 'has', 'don', 'at', 'out', 'all', 'down', 'such', 'you', 've', 'after', 'itself', 'or', 'y', 'where', 'only', 'those', 'again', 'can', \"you'll\", 'his'}\n"
     ]
    }
   ],
   "source": [
    "from nltk.corpus import stopwords\n",
    "stop_words = set(stopwords.words(\"english\"))\n",
    "print(stop_words)"
   ]
  },
  {
   "cell_type": "code",
   "execution_count": 13,
   "id": "12ebe6e7",
   "metadata": {
    "execution": {
     "iopub.execute_input": "2023-06-07T06:32:13.437830Z",
     "iopub.status.busy": "2023-06-07T06:32:13.437447Z",
     "iopub.status.idle": "2023-06-07T06:32:13.443756Z",
     "shell.execute_reply": "2023-06-07T06:32:13.442566Z"
    },
    "papermill": {
     "duration": 0.023961,
     "end_time": "2023-06-07T06:32:13.446270",
     "exception": false,
     "start_time": "2023-06-07T06:32:13.422309",
     "status": "completed"
    },
    "tags": []
   },
   "outputs": [
    {
     "name": "stdout",
     "output_type": "stream",
     "text": [
      "['artificial', 'intelligence', 'ai', 'likely', 'either', 'best', 'worst', 'thing', 'happen', 'humanity']\n"
     ]
    }
   ],
   "source": [
    "filtered_text = []\n",
    "for w in tk_np:\n",
    "   if w not in stop_words:\n",
    "      filtered_text.append(w)\n",
    "print(filtered_text)"
   ]
  },
  {
   "cell_type": "code",
   "execution_count": 14,
   "id": "329c853f",
   "metadata": {
    "execution": {
     "iopub.execute_input": "2023-06-07T06:32:13.476878Z",
     "iopub.status.busy": "2023-06-07T06:32:13.476447Z",
     "iopub.status.idle": "2023-06-07T06:32:13.778962Z",
     "shell.execute_reply": "2023-06-07T06:32:13.777805Z"
    },
    "papermill": {
     "duration": 0.321127,
     "end_time": "2023-06-07T06:32:13.781439",
     "exception": false,
     "start_time": "2023-06-07T06:32:13.460312",
     "status": "completed"
    },
    "tags": []
   },
   "outputs": [
    {
     "data": {
      "image/png": "[encoded data removed]",
      "text/plain": [
       "<Figure size 640x480 with 1 Axes>"
      ]
     },
     "metadata": {},
     "output_type": "display_data"
    }
   ],
   "source": [
    "from nltk.probability import FreqDist\n",
    "fdist = FreqDist(filtered_text)\n",
    "fdist.plot(title = 'Word frequency distribution', cumulative = True)"
   ]
  },
  {
   "cell_type": "code",
   "execution_count": 15,
   "id": "0827b0a8",
   "metadata": {
    "execution": {
     "iopub.execute_input": "2023-06-07T06:32:13.812705Z",
     "iopub.status.busy": "2023-06-07T06:32:13.812290Z",
     "iopub.status.idle": "2023-06-07T06:32:13.819509Z",
     "shell.execute_reply": "2023-06-07T06:32:13.818426Z"
    },
    "papermill": {
     "duration": 0.025513,
     "end_time": "2023-06-07T06:32:13.821946",
     "exception": false,
     "start_time": "2023-06-07T06:32:13.796433",
     "status": "completed"
    },
    "tags": []
   },
   "outputs": [
    {
     "data": {
      "text/plain": [
       "['best', 'worst']"
      ]
     },
     "execution_count": 15,
     "metadata": {},
     "output_type": "execute_result"
    }
   ],
   "source": [
    "import re\n",
    "[w for w in filtered_text if re.search(r'st$' , w)]"
   ]
  },
  {
   "cell_type": "markdown",
   "id": "faf2d34e",
   "metadata": {
    "papermill": {
     "duration": 0.014298,
     "end_time": "2023-06-07T06:32:13.851260",
     "exception": false,
     "start_time": "2023-06-07T06:32:13.836962",
     "status": "completed"
    },
    "tags": []
   },
   "source": [
    "Or count the number of vowels in the first word (\"artificial\"):"
   ]
  },
  {
   "cell_type": "code",
   "execution_count": 16,
   "id": "13bdaaca",
   "metadata": {
    "execution": {
     "iopub.execute_input": "2023-06-07T06:32:13.882172Z",
     "iopub.status.busy": "2023-06-07T06:32:13.881735Z",
     "iopub.status.idle": "2023-06-07T06:32:13.888942Z",
     "shell.execute_reply": "2023-06-07T06:32:13.887837Z"
    },
    "papermill": {
     "duration": 0.025397,
     "end_time": "2023-06-07T06:32:13.891158",
     "exception": false,
     "start_time": "2023-06-07T06:32:13.865761",
     "status": "completed"
    },
    "tags": []
   },
   "outputs": [
    {
     "data": {
      "text/plain": [
       "['a', 'i', 'i', 'i', 'a']"
      ]
     },
     "execution_count": 16,
     "metadata": {},
     "output_type": "execute_result"
    }
   ],
   "source": [
    "re.findall( r'[aeiou]' ,filtered_text[0] )"
   ]
  },
  {
   "cell_type": "markdown",
   "id": "26334ff9",
   "metadata": {
    "papermill": {
     "duration": 0.014352,
     "end_time": "2023-06-07T06:32:13.920118",
     "exception": false,
     "start_time": "2023-06-07T06:32:13.905766",
     "status": "completed"
    },
    "tags": []
   },
   "source": [
    "Jaron Lanier said:\n",
    "\n",
    "*\"It would be unfair to demand that people cease pirating files when those same people aren't paid for their participation in very lucrative network schemes. Ordinary people are relentlessly spied on, and not compensated for information taken from them. While I'd like to see everyone eventually pay for music and the like, I'd not ask for it until there's reciprocity.\"*"
   ]
  },
  {
   "cell_type": "code",
   "execution_count": 17,
   "id": "f98fc2a7",
   "metadata": {
    "execution": {
     "iopub.execute_input": "2023-06-07T06:32:13.951706Z",
     "iopub.status.busy": "2023-06-07T06:32:13.951027Z",
     "iopub.status.idle": "2023-06-07T06:32:13.958221Z",
     "shell.execute_reply": "2023-06-07T06:32:13.956964Z"
    },
    "papermill": {
     "duration": 0.025543,
     "end_time": "2023-06-07T06:32:13.960397",
     "exception": false,
     "start_time": "2023-06-07T06:32:13.934854",
     "status": "completed"
    },
    "tags": []
   },
   "outputs": [
    {
     "data": {
      "text/plain": [
       "\"It would be unfair to demand that people cease pirating files when those same people aren't paid for their participation in very lucrative network schemes. Ordinary people are relentlessly spied on, and not compensated for information taken from them. While I'd like to see everyone eventually pay for music and the like, I'd not ask for it until there's reciprocity.\""
      ]
     },
     "execution_count": 17,
     "metadata": {},
     "output_type": "execute_result"
    }
   ],
   "source": [
    "sentence = \"It would be unfair to demand that people cease pirating files when those same people aren't paid for their participation in very lucrative network schemes. Ordinary people are relentlessly spied on, and not compensated for information taken from them. While I'd like to see everyone eventually pay for music and the like, I'd not ask for it until there's reciprocity.\"\n",
    "sentence"
   ]
  },
  {
   "cell_type": "markdown",
   "id": "55261f19",
   "metadata": {
    "papermill": {
     "duration": 0.014372,
     "end_time": "2023-06-07T06:32:13.989619",
     "exception": false,
     "start_time": "2023-06-07T06:32:13.975247",
     "status": "completed"
    },
    "tags": []
   },
   "source": [
    "**Expanding contractions**\n",
    "the worlds \"we will\" can be contracted as \"we'll\""
   ]
  },
  {
   "cell_type": "code",
   "execution_count": 18,
   "id": "41a7d260",
   "metadata": {
    "execution": {
     "iopub.execute_input": "2023-06-07T06:32:14.022117Z",
     "iopub.status.busy": "2023-06-07T06:32:14.020966Z",
     "iopub.status.idle": "2023-06-07T06:32:14.035070Z",
     "shell.execute_reply": "2023-06-07T06:32:14.034253Z"
    },
    "papermill": {
     "duration": 0.033028,
     "end_time": "2023-06-07T06:32:14.037647",
     "exception": false,
     "start_time": "2023-06-07T06:32:14.004619",
     "status": "completed"
    },
    "tags": []
   },
   "outputs": [],
   "source": [
    "contractions_dict = { \"ain't\": \"are not\", \"'s\":\" is\", \"aren't\": \"are not\", \"can't\": \"cannot\", \"can't've\": \"cannot have\", \"'cause\": \"because\", \"could've\": \"could have\", \"couldn't\": \"could not\", \"couldn't've\": \"could not have\", \"didn't\": \"did not\", \"doesn't\": \"does not\", \"don't\": \"do not\", \"hadn't\": \"had not\", \"hadn't've\": \"had not have\", \"hasn't\": \"has not\", \"haven't\": \"have not\", \"he'd\": \"he would\", \"he'd've\": \"he would have\", \"he'll\": \"he will\", \"he'll've\": \"he will have\", \"how'd\": \"how did\", \"how'd'y\": \"how do you\", \"how'll\": \"how will\", \"I'd\": \"I would\", \"I'd've\": \"I would have\", \"I'll\": \"I will\", \"I'll've\": \"I will have\", \"I'm\": \"I am\", \"I've\": \"I have\", \"isn't\": \"is not\", \"it'd\": \"it would\", \"it'd've\": \"it would have\", \"it'll\": \"it will\", \"it'll've\": \"it will have\", \"let's\": \"let us\", \"ma'am\": \"madam\", \"mayn't\": \"may not\", \"might've\": \"might have\", \"mightn't\": \"might not\", \"mightn't've\": \"might not have\", \"must've\": \"must have\", \"mustn't\": \"must not\", \"mustn't've\": \"must not have\", \"needn't\": \"need not\", \"needn't've\": \"need not have\", \"o'clock\": \"of the clock\", \"oughtn't\": \"ought not\", \"oughtn't've\": \"ought not have\", \"shan't\": \"shall not\", \"sha'n't\": \"shall not\", \"shan't've\": \"shall not have\", \"she'd\": \"she would\", \"she'd've\": \"she would have\", \"she'll\": \"she will\", \"she'll've\": \"she will have\", \"should've\": \"should have\", \"shouldn't\": \"should not\", \"shouldn't've\": \"should not have\", \"so've\": \"so have\", \"that'd\": \"that would\", \"that'd've\": \"that would have\", \"there'd\": \"there would\", \"there'd've\": \"there would have\", \"they'd\": \"they would\", \"they'd've\": \"they would have\",\"they'll\": \"they will\",\n",
    " \"they'll've\": \"they will have\", \"they're\": \"they are\", \"they've\": \"they have\", \"to've\": \"to have\", \"wasn't\": \"was not\", \"we'd\": \"we would\", \"we'd've\": \"we would have\", \"we'll\": \"we will\", \"we'll've\": \"we will have\", \"we're\": \"we are\", \"we've\": \"we have\", \"weren't\": \"were not\",\"what'll\": \"what will\", \"what'll've\": \"what will have\", \"what're\": \"what are\", \"what've\": \"what have\", \"when've\": \"when have\", \"where'd\": \"where did\", \"where've\": \"where have\",\n",
    " \"who'll\": \"who will\", \"who'll've\": \"who will have\", \"who've\": \"who have\", \"why've\": \"why have\", \"will've\": \"will have\", \"won't\": \"will not\", \"won't've\": \"will not have\", \"would've\": \"would have\", \"wouldn't\": \"would not\", \"wouldn't've\": \"would not have\", \"y'all\": \"you all\", \"y'all'd\": \"you all would\", \"y'all'd've\": \"you all would have\", \"y'all're\": \"you all are\", \"y'all've\": \"you all have\", \"you'd\": \"you would\", \"you'd've\": \"you would have\", \"you'll\": \"you will\", \"you'll've\": \"you will have\", \"you're\": \"you are\", \"you've\": \"you have\"}"
   ]
  },
  {
   "cell_type": "code",
   "execution_count": 19,
   "id": "f4ba997b",
   "metadata": {
    "execution": {
     "iopub.execute_input": "2023-06-07T06:32:14.070530Z",
     "iopub.status.busy": "2023-06-07T06:32:14.068822Z",
     "iopub.status.idle": "2023-06-07T06:32:14.081495Z",
     "shell.execute_reply": "2023-06-07T06:32:14.080172Z"
    },
    "papermill": {
     "duration": 0.031325,
     "end_time": "2023-06-07T06:32:14.083999",
     "exception": false,
     "start_time": "2023-06-07T06:32:14.052674",
     "status": "completed"
    },
    "tags": []
   },
   "outputs": [
    {
     "name": "stdout",
     "output_type": "stream",
     "text": [
      "It would be unfair to demand that people cease pirating files when those same people are not paid for their participation in very lucrative network schemes. Ordinary people are relentlessly spied on, and not compensated for information taken from them. While I would like to see everyone eventually pay for music and the like, I would not ask for it until there is reciprocity.\n"
     ]
    }
   ],
   "source": [
    "import re\n",
    "patterns = re.compile( '(%s)'%'|'.join(contractions_dict.keys()))\n",
    "\n",
    "def expand_contractions(s , cont_dict = contractions_dict):\n",
    "    def replace(match):\n",
    "        return contractions_dict[match.group(0)]\n",
    "    return patterns.sub(replace , s)\n",
    "sentence = expand_contractions(sentence)\n",
    "print(sentence)"
   ]
  },
  {
   "cell_type": "code",
   "execution_count": 20,
   "id": "c74b1496",
   "metadata": {
    "execution": {
     "iopub.execute_input": "2023-06-07T06:32:14.116162Z",
     "iopub.status.busy": "2023-06-07T06:32:14.115414Z",
     "iopub.status.idle": "2023-06-07T06:32:14.125850Z",
     "shell.execute_reply": "2023-06-07T06:32:14.125016Z"
    },
    "papermill": {
     "duration": 0.028955,
     "end_time": "2023-06-07T06:32:14.128015",
     "exception": false,
     "start_time": "2023-06-07T06:32:14.099060",
     "status": "completed"
    },
    "tags": []
   },
   "outputs": [
    {
     "data": {
      "text/plain": [
       "['It',\n",
       " 'would',\n",
       " 'be',\n",
       " 'unfair',\n",
       " 'to',\n",
       " 'demand',\n",
       " 'that',\n",
       " 'people',\n",
       " 'cease',\n",
       " 'pirating',\n",
       " 'files',\n",
       " 'when',\n",
       " 'those',\n",
       " 'same',\n",
       " 'people',\n",
       " 'are',\n",
       " 'not',\n",
       " 'paid',\n",
       " 'for',\n",
       " 'their',\n",
       " 'participation',\n",
       " 'in',\n",
       " 'very',\n",
       " 'lucrative',\n",
       " 'network',\n",
       " 'schemes',\n",
       " '.',\n",
       " 'Ordinary',\n",
       " 'people',\n",
       " 'are',\n",
       " 'relentlessly',\n",
       " 'spied',\n",
       " 'on',\n",
       " ',',\n",
       " 'and',\n",
       " 'not',\n",
       " 'compensated',\n",
       " 'for',\n",
       " 'information',\n",
       " 'taken',\n",
       " 'from',\n",
       " 'them',\n",
       " '.',\n",
       " 'While',\n",
       " 'I',\n",
       " 'would',\n",
       " 'like',\n",
       " 'to',\n",
       " 'see',\n",
       " 'everyone',\n",
       " 'eventually',\n",
       " 'pay',\n",
       " 'for',\n",
       " 'music',\n",
       " 'and',\n",
       " 'the',\n",
       " 'like',\n",
       " ',',\n",
       " 'I',\n",
       " 'would',\n",
       " 'not',\n",
       " 'ask',\n",
       " 'for',\n",
       " 'it',\n",
       " 'until',\n",
       " 'there',\n",
       " 'is',\n",
       " 'reciprocity',\n",
       " '.']"
      ]
     },
     "execution_count": 20,
     "metadata": {},
     "output_type": "execute_result"
    }
   ],
   "source": [
    "from nltk.tokenize import word_tokenize\n",
    "tk = word_tokenize(sentence)\n",
    "tk"
   ]
  },
  {
   "cell_type": "markdown",
   "id": "1a553631",
   "metadata": {
    "papermill": {
     "duration": 0.014639,
     "end_time": "2023-06-07T06:32:14.157900",
     "exception": false,
     "start_time": "2023-06-07T06:32:14.143261",
     "status": "completed"
    },
    "tags": []
   },
   "source": [
    "remove punctuation marks"
   ]
  },
  {
   "cell_type": "code",
   "execution_count": 21,
   "id": "99b49f76",
   "metadata": {
    "execution": {
     "iopub.execute_input": "2023-06-07T06:32:14.190343Z",
     "iopub.status.busy": "2023-06-07T06:32:14.189617Z",
     "iopub.status.idle": "2023-06-07T06:32:14.198147Z",
     "shell.execute_reply": "2023-06-07T06:32:14.197344Z"
    },
    "papermill": {
     "duration": 0.027651,
     "end_time": "2023-06-07T06:32:14.200640",
     "exception": false,
     "start_time": "2023-06-07T06:32:14.172989",
     "status": "completed"
    },
    "tags": []
   },
   "outputs": [
    {
     "data": {
      "text/plain": [
       "['It',\n",
       " 'would',\n",
       " 'be',\n",
       " 'unfair',\n",
       " 'to',\n",
       " 'demand',\n",
       " 'that',\n",
       " 'people',\n",
       " 'cease',\n",
       " 'pirating',\n",
       " 'files',\n",
       " 'when',\n",
       " 'those',\n",
       " 'same',\n",
       " 'people',\n",
       " 'are',\n",
       " 'not',\n",
       " 'paid',\n",
       " 'for',\n",
       " 'their',\n",
       " 'participation',\n",
       " 'in',\n",
       " 'very',\n",
       " 'lucrative',\n",
       " 'network',\n",
       " 'schemes',\n",
       " 'Ordinary',\n",
       " 'people',\n",
       " 'are',\n",
       " 'relentlessly',\n",
       " 'spied',\n",
       " 'on',\n",
       " 'and',\n",
       " 'not',\n",
       " 'compensated',\n",
       " 'for',\n",
       " 'information',\n",
       " 'taken',\n",
       " 'from',\n",
       " 'them',\n",
       " 'While',\n",
       " 'I',\n",
       " 'would',\n",
       " 'like',\n",
       " 'to',\n",
       " 'see',\n",
       " 'everyone',\n",
       " 'eventually',\n",
       " 'pay',\n",
       " 'for',\n",
       " 'music',\n",
       " 'and',\n",
       " 'the',\n",
       " 'like',\n",
       " 'I',\n",
       " 'would',\n",
       " 'not',\n",
       " 'ask',\n",
       " 'for',\n",
       " 'it',\n",
       " 'until',\n",
       " 'there',\n",
       " 'is',\n",
       " 'reciprocity']"
      ]
     },
     "execution_count": 21,
     "metadata": {},
     "output_type": "execute_result"
    }
   ],
   "source": [
    "import re\n",
    "pattern = r'[a-zA-Z0-9]+'\n",
    "for token in tk:\n",
    "    if not re.search(pattern , token): \n",
    "        tk.remove(token)\n",
    "tk"
   ]
  },
  {
   "cell_type": "code",
   "execution_count": 22,
   "id": "69e7952f",
   "metadata": {
    "execution": {
     "iopub.execute_input": "2023-06-07T06:32:14.234314Z",
     "iopub.status.busy": "2023-06-07T06:32:14.233597Z",
     "iopub.status.idle": "2023-06-07T06:32:14.241937Z",
     "shell.execute_reply": "2023-06-07T06:32:14.240828Z"
    },
    "papermill": {
     "duration": 0.027517,
     "end_time": "2023-06-07T06:32:14.244322",
     "exception": false,
     "start_time": "2023-06-07T06:32:14.216805",
     "status": "completed"
    },
    "tags": []
   },
   "outputs": [
    {
     "data": {
      "text/plain": [
       "['It',\n",
       " 'would',\n",
       " 'unfair',\n",
       " 'demand',\n",
       " 'people',\n",
       " 'cease',\n",
       " 'pirating',\n",
       " 'files',\n",
       " 'people',\n",
       " 'paid',\n",
       " 'participation',\n",
       " 'lucrative',\n",
       " 'network',\n",
       " 'schemes',\n",
       " 'Ordinary',\n",
       " 'people',\n",
       " 'relentlessly',\n",
       " 'spied',\n",
       " 'compensated',\n",
       " 'information',\n",
       " 'taken',\n",
       " 'While',\n",
       " 'I',\n",
       " 'would',\n",
       " 'like',\n",
       " 'see',\n",
       " 'everyone',\n",
       " 'eventually',\n",
       " 'pay',\n",
       " 'music',\n",
       " 'like',\n",
       " 'I',\n",
       " 'would',\n",
       " 'ask',\n",
       " 'reciprocity']"
      ]
     },
     "execution_count": 22,
     "metadata": {},
     "output_type": "execute_result"
    }
   ],
   "source": [
    "tk_no_sw = []\n",
    "for token in tk:\n",
    "    if token not  in stop_words:\n",
    "        tk_no_sw.append(token)\n",
    "tk_no_sw"
   ]
  },
  {
   "cell_type": "markdown",
   "id": "399a4489",
   "metadata": {
    "papermill": {
     "duration": 0.015371,
     "end_time": "2023-06-07T06:32:14.275476",
     "exception": false,
     "start_time": "2023-06-07T06:32:14.260105",
     "status": "completed"
    },
    "tags": []
   },
   "source": [
    "## Stemming\n",
    "\n",
    "***connected*** -> ***connect***"
   ]
  },
  {
   "cell_type": "code",
   "execution_count": 23,
   "id": "10c70d16",
   "metadata": {
    "execution": {
     "iopub.execute_input": "2023-06-07T06:32:14.309125Z",
     "iopub.status.busy": "2023-06-07T06:32:14.308325Z",
     "iopub.status.idle": "2023-06-07T06:32:14.318372Z",
     "shell.execute_reply": "2023-06-07T06:32:14.317357Z"
    },
    "papermill": {
     "duration": 0.029376,
     "end_time": "2023-06-07T06:32:14.320676",
     "exception": false,
     "start_time": "2023-06-07T06:32:14.291300",
     "status": "completed"
    },
    "tags": []
   },
   "outputs": [
    {
     "data": {
      "text/plain": [
       "['It',\n",
       " 'would',\n",
       " 'unfair',\n",
       " 'demand',\n",
       " 'peopl',\n",
       " 'ceas',\n",
       " 'pirat',\n",
       " 'file',\n",
       " 'peopl',\n",
       " 'paid',\n",
       " 'particip',\n",
       " 'lucr',\n",
       " 'network',\n",
       " 'scheme',\n",
       " 'ordinari',\n",
       " 'peopl',\n",
       " 'relentlessli',\n",
       " 'spi',\n",
       " 'compens',\n",
       " 'inform',\n",
       " 'taken',\n",
       " 'while',\n",
       " 'I',\n",
       " 'would',\n",
       " 'like',\n",
       " 'see',\n",
       " 'everyon',\n",
       " 'eventu',\n",
       " 'pay',\n",
       " 'music',\n",
       " 'like',\n",
       " 'I',\n",
       " 'would',\n",
       " 'ask',\n",
       " 'reciproc']"
      ]
     },
     "execution_count": 23,
     "metadata": {},
     "output_type": "execute_result"
    }
   ],
   "source": [
    "from nltk.stem import PorterStemmer\n",
    "ps = PorterStemmer()\n",
    "\n",
    "ps_stem_sent = [ps.stem(word) for word in tk_no_sw]\n",
    "ps_stem_sent"
   ]
  },
  {
   "cell_type": "code",
   "execution_count": 24,
   "id": "d6b33543",
   "metadata": {
    "execution": {
     "iopub.execute_input": "2023-06-07T06:32:14.354869Z",
     "iopub.status.busy": "2023-06-07T06:32:14.354029Z",
     "iopub.status.idle": "2023-06-07T06:32:14.364123Z",
     "shell.execute_reply": "2023-06-07T06:32:14.361670Z"
    },
    "papermill": {
     "duration": 0.031507,
     "end_time": "2023-06-07T06:32:14.368058",
     "exception": false,
     "start_time": "2023-06-07T06:32:14.336551",
     "status": "completed"
    },
    "tags": []
   },
   "outputs": [
    {
     "name": "stdout",
     "output_type": "stream",
     "text": [
      "['it', 'would', 'unfair', 'demand', 'peopl', 'ceas', 'pirat', 'file', 'peopl', 'paid', 'particip', 'lucrat', 'network', 'scheme', 'ordinari', 'peopl', 'relentless', 'spi', 'compens', 'inform', 'taken', 'while', 'i', 'would', 'like', 'see', 'everyon', 'eventu', 'pay', 'music', 'like', 'i', 'would', 'ask', 'reciproc']\n"
     ]
    }
   ],
   "source": [
    "from nltk.stem import SnowballStemmer\n",
    "sb = SnowballStemmer(\"english\")\n",
    "sb_stem_sent = [sb.stem(word) for word in tk_no_sw]\n",
    "print(sb_stem_sent)"
   ]
  },
  {
   "cell_type": "markdown",
   "id": "eca11146",
   "metadata": {
    "papermill": {
     "duration": 0.021334,
     "end_time": "2023-06-07T06:32:14.411595",
     "exception": false,
     "start_time": "2023-06-07T06:32:14.390261",
     "status": "completed"
    },
    "tags": []
   },
   "source": [
    "Lemmatization"
   ]
  },
  {
   "cell_type": "code",
   "execution_count": 25,
   "id": "8cede42a",
   "metadata": {
    "execution": {
     "iopub.execute_input": "2023-06-07T06:32:14.455202Z",
     "iopub.status.busy": "2023-06-07T06:32:14.454765Z",
     "iopub.status.idle": "2023-06-07T06:32:16.967918Z",
     "shell.execute_reply": "2023-06-07T06:32:16.966466Z"
    },
    "papermill": {
     "duration": 2.537502,
     "end_time": "2023-06-07T06:32:16.970761",
     "exception": false,
     "start_time": "2023-06-07T06:32:14.433259",
     "status": "completed"
    },
    "tags": []
   },
   "outputs": [
    {
     "name": "stdout",
     "output_type": "stream",
     "text": [
      "['It', 'would', 'unfair', 'demand', 'people', 'cease', 'pirate', 'file', 'people', 'pay', 'participation', 'lucrative', 'network', 'scheme', 'Ordinary', 'people', 'relentlessly', 'spy', 'compensate', 'information', 'take', 'While', 'I', 'would', 'like', 'see', 'everyone', 'eventually', 'pay', 'music', 'like', 'I', 'would', 'ask', 'reciprocity']\n"
     ]
    }
   ],
   "source": [
    "from nltk.stem.wordnet import WordNetLemmatizer\n",
    "lemmatizer = WordNetLemmatizer()\n",
    "\n",
    "lemma_sent = [lemmatizer.lemmatize(word,pos =\"v\" ) for word in tk_no_sw]\n",
    "print(lemma_sent)"
   ]
  },
  {
   "cell_type": "markdown",
   "id": "68d25d63",
   "metadata": {
    "papermill": {
     "duration": 0.016261,
     "end_time": "2023-06-07T06:32:17.003182",
     "exception": false,
     "start_time": "2023-06-07T06:32:16.986921",
     "status": "completed"
    },
    "tags": []
   },
   "source": [
    "POS tagging is the task of assigning each word in a sentence the part of speech that it assumes in that sentence. The primary target of POS tagging is to identify the grammatical group of a given word: whether it is a noun, pronoun, adjective, verb, adverbs, etc. based on the conte"
   ]
  },
  {
   "cell_type": "code",
   "execution_count": null,
   "id": "cae6e714",
   "metadata": {
    "papermill": {
     "duration": 0.015787,
     "end_time": "2023-06-07T06:32:17.035369",
     "exception": false,
     "start_time": "2023-06-07T06:32:17.019582",
     "status": "completed"
    },
    "tags": []
   },
   "outputs": [],
   "source": []
  }
 ],
 "metadata": {
  "kernelspec": {
   "display_name": "Python 3 (ipykernel)",
   "language": "python",
   "name": "python3"
  },
  "language_info": {
   "codemirror_mode": {
    "name": "ipython",
    "version": 3
   },
   "file_extension": ".py",
   "mimetype": "text/x-python",
   "name": "python",
   "nbconvert_exporter": "python",
   "pygments_lexer": "ipython3",
   "version": "3.10.6"
  },
  "papermill": {
   "default_parameters": {},
   "duration": 24.662698,
   "end_time": "2023-06-07T06:32:18.373962",
   "environment_variables": {},
   "exception": null,
   "input_path": "__notebook__.ipynb",
   "output_path": "__notebook__.ipynb",
   "parameters": {},
   "start_time": "2023-06-07T06:31:53.711264",
   "version": "2.4.0"
  }
 },
 "nbformat": 4,
 "nbformat_minor": 5
}
