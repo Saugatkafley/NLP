{
 "cells": [
  {
   "cell_type": "code",
   "execution_count": 1,
   "id": "0d0a3bde",
   "metadata": {},
   "outputs": [],
   "source": [
    "import torch \n",
    "from torch.nn import functional as F \n",
    "import torch.nn as nn "
   ]
  },
  {
   "cell_type": "code",
   "execution_count": 2,
   "id": "c04bbb3f",
   "metadata": {},
   "outputs": [],
   "source": [
    "class SimpleRNN(nn.Module):\n",
    "    \n",
    "    def __init__(self, input_size:int, hidden_size:int , output_size:int):\n",
    "        super().__init__()\n",
    "        self.input_size = input_size\n",
    "        self.hidden_size = hidden_size\n",
    "        self.output_size = output_size\n",
    "        \n",
    "        self.inp2hidden = nn.Linear(input_size , hidden_size , bias=False)\n",
    "        self.hid2out = nn.Linear(hidden_size , output_size)\n",
    "        \n",
    "    \n",
    "    def forward(self , x, hidden_state):\n",
    "        \"\"\"\n",
    "        Returns computed output and tanh(i2h + h2h)\n",
    "        Inputs\n",
    "        ------\n",
    "        x: Input vector\n",
    "        hidden_state: Previous hidden state\n",
    "        Outputs\n",
    "        -------\n",
    "        out: Linear output (without activation because of how pytorch works)\n",
    "        hidden_state: New hidden state matrix\n",
    "        \"\"\"\n",
    "        x = self.inp2hidden(x)\n",
    "        hidden_state = self.torch.tanh(x+hidden_state)\n",
    "        out  = self.hid2out(hidden_state)\n",
    "        \n",
    "    \n",
    "    def init_zero_hidden(self , batch_size = 1):\n",
    "        \"\"\"\n",
    "        Helper function.\n",
    "        Returns a hidden state with specified batch size. Defaults to 1\n",
    "        \n",
    "        \"\"\"\n",
    "        return torch.zeros(batch_size, self.hidden_size, requires_grad=False)\n",
    "        "
   ]
  },
  {
   "cell_type": "markdown",
   "id": "0a51df16",
   "metadata": {},
   "source": [
    "### Shape And Dimension\n",
    "\n",
    "![shape](https://miro.medium.com/v2/resize:fit:786/format:webp/1*ky5-nx-6uMBualEs7HUwGA.png)\n",
    "\n",
    "**Dimensions resulting from each matrix dot product (yellow indicators)**\n",
    "\n",
    "1. batch_size x hidden_units\n",
    "2. batch_size x hidden_units\n",
    "3. batch_size x output size"
   ]
  },
  {
   "cell_type": "code",
   "execution_count": null,
   "id": "7a378012",
   "metadata": {},
   "outputs": [],
   "source": []
  }
 ],
 "metadata": {
  "kernelspec": {
   "display_name": "Python 3 (ipykernel)",
   "language": "python",
   "name": "python3"
  },
  "language_info": {
   "codemirror_mode": {
    "name": "ipython",
    "version": 3
   },
   "file_extension": ".py",
   "mimetype": "text/x-python",
   "name": "python",
   "nbconvert_exporter": "python",
   "pygments_lexer": "ipython3",
   "version": "3.10.6"
  }
 },
 "nbformat": 4,
 "nbformat_minor": 5
}
