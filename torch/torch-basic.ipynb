{
 "cells": [
  {
   "cell_type": "code",
   "execution_count": 4,
   "id": "e4fa2d25",
   "metadata": {
    "scrolled": true
   },
   "outputs": [
    {
     "name": "stdout",
     "output_type": "stream",
     "text": [
      "Requirement already satisfied: torch in /home/saugat/Desktop/NLP/venv/lib/python3.10/site-packages (2.0.1)\n",
      "Requirement already satisfied: torchvision in /home/saugat/Desktop/NLP/venv/lib/python3.10/site-packages (0.15.2)\n",
      "Requirement already satisfied: jinja2 in /home/saugat/Desktop/NLP/venv/lib/python3.10/site-packages (from torch) (3.1.2)\n",
      "Requirement already satisfied: nvidia-cuda-cupti-cu11==11.7.101 in /home/saugat/Desktop/NLP/venv/lib/python3.10/site-packages (from torch) (11.7.101)\n",
      "Requirement already satisfied: nvidia-cudnn-cu11==8.5.0.96 in /home/saugat/Desktop/NLP/venv/lib/python3.10/site-packages (from torch) (8.5.0.96)\n",
      "Requirement already satisfied: nvidia-cusparse-cu11==11.7.4.91 in /home/saugat/Desktop/NLP/venv/lib/python3.10/site-packages (from torch) (11.7.4.91)\n",
      "Requirement already satisfied: sympy in /home/saugat/Desktop/NLP/venv/lib/python3.10/site-packages (from torch) (1.12)\n",
      "Requirement already satisfied: triton==2.0.0 in /home/saugat/Desktop/NLP/venv/lib/python3.10/site-packages (from torch) (2.0.0)\n",
      "Requirement already satisfied: nvidia-cublas-cu11==11.10.3.66 in /home/saugat/Desktop/NLP/venv/lib/python3.10/site-packages (from torch) (11.10.3.66)\n",
      "Requirement already satisfied: nvidia-nccl-cu11==2.14.3 in /home/saugat/Desktop/NLP/venv/lib/python3.10/site-packages (from torch) (2.14.3)\n",
      "Requirement already satisfied: nvidia-nvtx-cu11==11.7.91 in /home/saugat/Desktop/NLP/venv/lib/python3.10/site-packages (from torch) (11.7.91)\n",
      "Requirement already satisfied: nvidia-cuda-runtime-cu11==11.7.99 in /home/saugat/Desktop/NLP/venv/lib/python3.10/site-packages (from torch) (11.7.99)\n",
      "Requirement already satisfied: typing-extensions in /home/saugat/Desktop/NLP/venv/lib/python3.10/site-packages (from torch) (4.6.3)\n",
      "Requirement already satisfied: nvidia-cufft-cu11==10.9.0.58 in /home/saugat/Desktop/NLP/venv/lib/python3.10/site-packages (from torch) (10.9.0.58)\n",
      "Requirement already satisfied: nvidia-curand-cu11==10.2.10.91 in /home/saugat/Desktop/NLP/venv/lib/python3.10/site-packages (from torch) (10.2.10.91)\n",
      "Requirement already satisfied: nvidia-cusolver-cu11==11.4.0.1 in /home/saugat/Desktop/NLP/venv/lib/python3.10/site-packages (from torch) (11.4.0.1)\n",
      "Requirement already satisfied: networkx in /home/saugat/Desktop/NLP/venv/lib/python3.10/site-packages (from torch) (3.1)\n",
      "Requirement already satisfied: filelock in /home/saugat/Desktop/NLP/venv/lib/python3.10/site-packages (from torch) (3.12.0)\n",
      "Requirement already satisfied: nvidia-cuda-nvrtc-cu11==11.7.99 in /home/saugat/Desktop/NLP/venv/lib/python3.10/site-packages (from torch) (11.7.99)\n",
      "Requirement already satisfied: setuptools in /home/saugat/Desktop/NLP/venv/lib/python3.10/site-packages (from nvidia-cublas-cu11==11.10.3.66->torch) (59.6.0)\n",
      "Requirement already satisfied: wheel in /home/saugat/Desktop/NLP/venv/lib/python3.10/site-packages (from nvidia-cublas-cu11==11.10.3.66->torch) (0.40.0)\n",
      "Requirement already satisfied: cmake in /home/saugat/Desktop/NLP/venv/lib/python3.10/site-packages (from triton==2.0.0->torch) (3.26.3)\n",
      "Requirement already satisfied: lit in /home/saugat/Desktop/NLP/venv/lib/python3.10/site-packages (from triton==2.0.0->torch) (16.0.5.post0)\n",
      "Requirement already satisfied: numpy in /home/saugat/Desktop/NLP/venv/lib/python3.10/site-packages (from torchvision) (1.24.3)\n",
      "Requirement already satisfied: pillow!=8.3.*,>=5.3.0 in /home/saugat/Desktop/NLP/venv/lib/python3.10/site-packages (from torchvision) (9.5.0)\n",
      "Requirement already satisfied: requests in /home/saugat/Desktop/NLP/venv/lib/python3.10/site-packages (from torchvision) (2.31.0)\n",
      "Requirement already satisfied: MarkupSafe>=2.0 in /home/saugat/Desktop/NLP/venv/lib/python3.10/site-packages (from jinja2->torch) (2.1.3)\n",
      "Requirement already satisfied: charset-normalizer<4,>=2 in /home/saugat/Desktop/NLP/venv/lib/python3.10/site-packages (from requests->torchvision) (3.1.0)\n",
      "Requirement already satisfied: idna<4,>=2.5 in /home/saugat/Desktop/NLP/venv/lib/python3.10/site-packages (from requests->torchvision) (3.4)\n",
      "Requirement already satisfied: urllib3<3,>=1.21.1 in /home/saugat/Desktop/NLP/venv/lib/python3.10/site-packages (from requests->torchvision) (2.0.3)\n",
      "Requirement already satisfied: certifi>=2017.4.17 in /home/saugat/Desktop/NLP/venv/lib/python3.10/site-packages (from requests->torchvision) (2023.5.7)\n",
      "Requirement already satisfied: mpmath>=0.19 in /home/saugat/Desktop/NLP/venv/lib/python3.10/site-packages (from sympy->torch) (1.3.0)\n"
     ]
    }
   ],
   "source": [
    "!pip install torch torchvision"
   ]
  },
  {
   "cell_type": "code",
   "execution_count": 16,
   "id": "a3cabf01",
   "metadata": {},
   "outputs": [],
   "source": [
    "import torch\n",
    "import torch.nn.functional as F\n",
    "import torch.nn as nn\n",
    "import torch.nn.init as init\n",
    "import numpy as np "
   ]
  },
  {
   "cell_type": "code",
   "execution_count": 25,
   "id": "c1d4bb42",
   "metadata": {},
   "outputs": [
    {
     "data": {
      "text/plain": [
       "torch.Size([4, 5])"
      ]
     },
     "execution_count": 25,
     "metadata": {},
     "output_type": "execute_result"
    }
   ],
   "source": [
    "t1 =torch.Tensor(4,5)\n",
    "t1.size()\n",
    "# print(t1.size())"
   ]
  },
  {
   "cell_type": "code",
   "execution_count": 26,
   "id": "6a9f87eb",
   "metadata": {},
   "outputs": [],
   "source": [
    "t2 = torch.Tensor([3.2, 4.3, 5.5])"
   ]
  },
  {
   "cell_type": "code",
   "execution_count": 27,
   "id": "aee9c590",
   "metadata": {},
   "outputs": [],
   "source": [
    "t3 = torch.Tensor(np.array([[3.2], [4.3], [5.5]]))"
   ]
  },
  {
   "cell_type": "code",
   "execution_count": 28,
   "id": "687ea591",
   "metadata": {},
   "outputs": [],
   "source": [
    "t4 = torch.rand(4,6)"
   ]
  },
  {
   "cell_type": "code",
   "execution_count": 30,
   "id": "12290c2f",
   "metadata": {},
   "outputs": [
    {
     "ename": "RuntimeError",
     "evalue": "The size of tensor a (5) must match the size of tensor b (3) at non-singleton dimension 1",
     "output_type": "error",
     "traceback": [
      "\u001b[0;31m---------------------------------------------------------------------------\u001b[0m",
      "\u001b[0;31mRuntimeError\u001b[0m                              Traceback (most recent call last)",
      "Cell \u001b[0;32mIn[30], line 1\u001b[0m\n\u001b[0;32m----> 1\u001b[0m t5 \u001b[38;5;241m=\u001b[39m \u001b[43mt1\u001b[49m\u001b[43m \u001b[49m\u001b[38;5;241;43m+\u001b[39;49m\u001b[43m \u001b[49m\u001b[43mt2\u001b[49m\n",
      "\u001b[0;31mRuntimeError\u001b[0m: The size of tensor a (5) must match the size of tensor b (3) at non-singleton dimension 1"
     ]
    }
   ],
   "source": [
    "t5 = t1 + t2"
   ]
  },
  {
   "cell_type": "code",
   "execution_count": 32,
   "id": "52f7c7d9",
   "metadata": {},
   "outputs": [
    {
     "name": "stdout",
     "output_type": "stream",
     "text": [
      "tensor([1., 2., 3.])\n",
      "tensor([5., 7., 9.])\n",
      "<AddBackward0 object at 0x7f8e6d3b3fd0>\n"
     ]
    }
   ],
   "source": [
    "# Variable is in the autograd module\n",
    "from torch.autograd import Variable\n",
    "# Variables wrap tensors\n",
    "x = Variable(torch.Tensor([1, 2, 3]), requires_grad=True)\n",
    "# You can access the underlying tensor with the .data attribute\n",
    "print(x.data)\n",
    "# Any operation you could use on Tensors, you can use\n",
    "# on Variables. Operations between Variables produce\n",
    "# Variables.\n",
    "y = Variable(torch.Tensor([4, 5, 6]), requires_grad=True)\n",
    "z = x + y\n",
    "print(z.data)\n",
    "# z knows its function to compute gradient.\n",
    "print(z.grad_fn) # Magic of auto differentiation."
   ]
  },
  {
   "cell_type": "code",
   "execution_count": 33,
   "id": "e92cac32",
   "metadata": {},
   "outputs": [
    {
     "name": "stdout",
     "output_type": "stream",
     "text": [
      "tensor([[0.0637, 2.3304, 0.6797, 0.1758],\n",
      "        [2.0646, 2.8213, 2.7790, 2.1455],\n",
      "        [1.8222, 1.5114, 1.7032, 1.6941],\n",
      "        [2.6598, 1.9846, 1.7060, 0.7954],\n",
      "        [2.1811, 1.3909, 2.2920, 0.3170]])\n"
     ]
    }
   ],
   "source": [
    "x = torch.rand(5, 4)\n",
    "y = torch.rand(5, 4)\n",
    "c = 3\n",
    "print(c*x)"
   ]
  },
  {
   "cell_type": "code",
   "execution_count": 34,
   "id": "7527d476",
   "metadata": {},
   "outputs": [
    {
     "data": {
      "text/plain": [
       "tensor([[0.1440, 1.4238, 0.3242, 0.3095],\n",
       "        [1.4121, 1.7437, 1.2543, 1.3014],\n",
       "        [1.3702, 1.0841, 0.9645, 0.8047],\n",
       "        [1.8505, 0.9963, 0.5983, 0.7293],\n",
       "        [1.5529, 1.3374, 1.1102, 0.3609]])"
      ]
     },
     "execution_count": 34,
     "metadata": {},
     "output_type": "execute_result"
    }
   ],
   "source": [
    "x+y"
   ]
  },
  {
   "cell_type": "code",
   "execution_count": 35,
   "id": "12a44f1b",
   "metadata": {},
   "outputs": [
    {
     "data": {
      "text/plain": [
       "tensor([[0.1440, 1.4238, 0.3242, 0.3095],\n",
       "        [1.4121, 1.7437, 1.2543, 1.3014],\n",
       "        [1.3702, 1.0841, 0.9645, 0.8047],\n",
       "        [1.8505, 0.9963, 0.5983, 0.7293],\n",
       "        [1.5529, 1.3374, 1.1102, 0.3609]])"
      ]
     },
     "execution_count": 35,
     "metadata": {},
     "output_type": "execute_result"
    }
   ],
   "source": [
    "x.add(y)"
   ]
  },
  {
   "cell_type": "code",
   "execution_count": 36,
   "id": "dfba16f6",
   "metadata": {},
   "outputs": [
    {
     "name": "stderr",
     "output_type": "stream",
     "text": [
      "/home/saugat/Desktop/NLP/venv/lib/python3.10/site-packages/torch/cuda/__init__.py:107: UserWarning: CUDA initialization: Unexpected error from cudaGetDeviceCount(). Did you run some cuda functions before calling NumCudaDevices() that might have already set an error? Error 803: system has unsupported display driver / cuda driver combination (Triggered internally at ../c10/cuda/CUDAFunctions.cpp:109.)\n",
      "  return torch._C._cuda_getDeviceCount() > 0\n"
     ]
    },
    {
     "data": {
      "text/plain": [
       "False"
      ]
     },
     "execution_count": 36,
     "metadata": {},
     "output_type": "execute_result"
    }
   ],
   "source": [
    "torch.cuda.is_available()"
   ]
  },
  {
   "cell_type": "code",
   "execution_count": 37,
   "id": "5f89a0b8",
   "metadata": {},
   "outputs": [
    {
     "ename": "RuntimeError",
     "evalue": "Unexpected error from cudaGetDeviceCount(). Did you run some cuda functions before calling NumCudaDevices() that might have already set an error? Error 803: system has unsupported display driver / cuda driver combination",
     "output_type": "error",
     "traceback": [
      "\u001b[0;31m---------------------------------------------------------------------------\u001b[0m",
      "\u001b[0;31mRuntimeError\u001b[0m                              Traceback (most recent call last)",
      "Cell \u001b[0;32mIn[37], line 2\u001b[0m\n\u001b[1;32m      1\u001b[0m a \u001b[38;5;241m=\u001b[39m torch\u001b[38;5;241m.\u001b[39mrand(\u001b[38;5;241m5\u001b[39m, \u001b[38;5;241m4\u001b[39m)\n\u001b[0;32m----> 2\u001b[0m a \u001b[38;5;241m=\u001b[39m \u001b[43ma\u001b[49m\u001b[38;5;241;43m.\u001b[39;49m\u001b[43mcuda\u001b[49m\u001b[43m(\u001b[49m\u001b[43m)\u001b[49m\n\u001b[1;32m      3\u001b[0m \u001b[38;5;28mprint\u001b[39m(a)\n",
      "File \u001b[0;32m~/Desktop/NLP/venv/lib/python3.10/site-packages/torch/cuda/__init__.py:247\u001b[0m, in \u001b[0;36m_lazy_init\u001b[0;34m()\u001b[0m\n\u001b[1;32m    245\u001b[0m \u001b[38;5;28;01mif\u001b[39;00m \u001b[38;5;124m'\u001b[39m\u001b[38;5;124mCUDA_MODULE_LOADING\u001b[39m\u001b[38;5;124m'\u001b[39m \u001b[38;5;129;01mnot\u001b[39;00m \u001b[38;5;129;01min\u001b[39;00m os\u001b[38;5;241m.\u001b[39menviron:\n\u001b[1;32m    246\u001b[0m     os\u001b[38;5;241m.\u001b[39menviron[\u001b[38;5;124m'\u001b[39m\u001b[38;5;124mCUDA_MODULE_LOADING\u001b[39m\u001b[38;5;124m'\u001b[39m] \u001b[38;5;241m=\u001b[39m \u001b[38;5;124m'\u001b[39m\u001b[38;5;124mLAZY\u001b[39m\u001b[38;5;124m'\u001b[39m\n\u001b[0;32m--> 247\u001b[0m \u001b[43mtorch\u001b[49m\u001b[38;5;241;43m.\u001b[39;49m\u001b[43m_C\u001b[49m\u001b[38;5;241;43m.\u001b[39;49m\u001b[43m_cuda_init\u001b[49m\u001b[43m(\u001b[49m\u001b[43m)\u001b[49m\n\u001b[1;32m    248\u001b[0m \u001b[38;5;66;03m# Some of the queued calls may reentrantly call _lazy_init();\u001b[39;00m\n\u001b[1;32m    249\u001b[0m \u001b[38;5;66;03m# we need to just return without initializing in that case.\u001b[39;00m\n\u001b[1;32m    250\u001b[0m \u001b[38;5;66;03m# However, we must not let any *other* threads in!\u001b[39;00m\n\u001b[1;32m    251\u001b[0m _tls\u001b[38;5;241m.\u001b[39mis_initializing \u001b[38;5;241m=\u001b[39m \u001b[38;5;28;01mTrue\u001b[39;00m\n",
      "\u001b[0;31mRuntimeError\u001b[0m: Unexpected error from cudaGetDeviceCount(). Did you run some cuda functions before calling NumCudaDevices() that might have already set an error? Error 803: system has unsupported display driver / cuda driver combination"
     ]
    }
   ],
   "source": [
    "a = torch.rand(5, 4)\n",
    "a = a.cuda()\n",
    "print(a)"
   ]
  },
  {
   "cell_type": "code",
   "execution_count": 38,
   "id": "509a23ba",
   "metadata": {},
   "outputs": [],
   "source": [
    "from torch.autograd import Variable"
   ]
  },
  {
   "cell_type": "code",
   "execution_count": 39,
   "id": "eaf3ed30",
   "metadata": {},
   "outputs": [],
   "source": [
    "# requires_grad\n",
    "x = Variable(torch.Tensor([3]), requires_grad=True)\n",
    "y = Variable(torch.Tensor([5]), requires_grad=True)\n",
    "z = 2 * x + y + 4"
   ]
  },
  {
   "cell_type": "code",
   "execution_count": 40,
   "id": "7f8665cc",
   "metadata": {},
   "outputs": [],
   "source": [
    "z.backward()"
   ]
  },
  {
   "cell_type": "code",
   "execution_count": 41,
   "id": "f802cd0d",
   "metadata": {},
   "outputs": [
    {
     "name": "stdout",
     "output_type": "stream",
     "text": [
      "dz/dx: tensor([2.])\n",
      "dz/dy: tensor([1.])\n"
     ]
    }
   ],
   "source": [
    "print('dz/dx: {}'.format(x.grad.data))\n",
    "print('dz/dy: {}'.format(y.grad.data))"
   ]
  },
  {
   "cell_type": "code",
   "execution_count": 42,
   "id": "d8e787e0",
   "metadata": {},
   "outputs": [],
   "source": [
    "from torch import nn\n",
    "import torch.nn.functional as F"
   ]
  },
  {
   "cell_type": "code",
   "execution_count": 43,
   "id": "42ea19ef",
   "metadata": {},
   "outputs": [],
   "source": [
    "class Model(nn.Module):\n",
    "    def  __init__(self):\n",
    "        super(Model , self).__init__()\n",
    "        self.conv1 = nn.Conv2d(3,10,3)\n",
    "    \n",
    "    def forward(self,x):\n",
    "        out = self.con1(x)\n",
    "        return out"
   ]
  },
  {
   "cell_type": "code",
   "execution_count": null,
   "id": "2b1855f1",
   "metadata": {},
   "outputs": [],
   "source": []
  }
 ],
 "metadata": {
  "kernelspec": {
   "display_name": "Python 3 (ipykernel)",
   "language": "python",
   "name": "python3"
  },
  "language_info": {
   "codemirror_mode": {
    "name": "ipython",
    "version": 3
   },
   "file_extension": ".py",
   "mimetype": "text/x-python",
   "name": "python",
   "nbconvert_exporter": "python",
   "pygments_lexer": "ipython3",
   "version": "3.10.6"
  }
 },
 "nbformat": 4,
 "nbformat_minor": 5
}
