{
 "cells": [
  {
   "cell_type": "code",
   "execution_count": 1,
   "id": "88767353",
   "metadata": {},
   "outputs": [],
   "source": [
    "import matplotlib.pyplot as plt \n",
    "import numpy as np \n",
    "import torch \n",
    "import torch.nn as nn\n",
    "import torch.nn.functional as F\n",
    "from torch.autograd import Variable"
   ]
  },
  {
   "cell_type": "code",
   "execution_count": 2,
   "id": "6c29e7f1",
   "metadata": {},
   "outputs": [],
   "source": [
    "x_train = np.array([[3.3], [4.4], [5.5], [6.71], [6.93], [4.168],\n",
    "                    [9.779], [6.182], [7.59], [2.167], [7.042],\n",
    "                    [10.791], [5.313], [7.997], [3.1]], dtype=np.float32)\n",
    "\n",
    "y_train = np.array([[1.7], [2.76], [2.09], [3.19], [1.694], [1.573],\n",
    "                    [3.366], [2.596], [2.53], [1.221], [2.827],\n",
    "                    [3.465], [1.65], [2.904], [1.3]], dtype=np.float32)"
   ]
  },
  {
   "cell_type": "code",
   "execution_count": 3,
   "id": "34c6b2ae",
   "metadata": {},
   "outputs": [],
   "source": [
    "x_train = torch.from_numpy(x_train)\n",
    "y_train = torch.from_numpy(y_train)"
   ]
  },
  {
   "cell_type": "code",
   "execution_count": 17,
   "id": "4d6f7a05",
   "metadata": {},
   "outputs": [],
   "source": [
    "class LinearRegression(nn.Module):\n",
    "    \n",
    "    def __init__(self):\n",
    "        super(LinearRegression , self).__init__()\n",
    "        self.linear = nn.Linear(1,1) #1 input and 1 output\n",
    "    \n",
    "    def forward(self,x):\n",
    "        out  = self.linear(x)\n",
    "        return out "
   ]
  },
  {
   "cell_type": "code",
   "execution_count": 18,
   "id": "b9b37837",
   "metadata": {},
   "outputs": [],
   "source": [
    "model = LinearRegression()\n",
    "# 定义loss和优化函数\n",
    "criterion = nn.MSELoss()\n",
    "optimizer = torch.optim.SGD(model.parameters(), lr=1e-4)"
   ]
  },
  {
   "cell_type": "code",
   "execution_count": 19,
   "id": "b3f26dab",
   "metadata": {},
   "outputs": [
    {
     "data": {
      "text/plain": [
       "SGD (\n",
       "Parameter Group 0\n",
       "    dampening: 0\n",
       "    differentiable: False\n",
       "    foreach: None\n",
       "    lr: 0.0001\n",
       "    maximize: False\n",
       "    momentum: 0\n",
       "    nesterov: False\n",
       "    weight_decay: 0\n",
       ")"
      ]
     },
     "execution_count": 19,
     "metadata": {},
     "output_type": "execute_result"
    }
   ],
   "source": [
    "optimizer "
   ]
  },
  {
   "cell_type": "code",
   "execution_count": 24,
   "id": "ad092429",
   "metadata": {},
   "outputs": [
    {
     "name": "stdout",
     "output_type": "stream",
     "text": [
      "epochs : 0\n",
      "loss : 0.181695\n",
      "epochs : 50\n",
      "loss : 0.181662\n",
      "epochs : 100\n",
      "loss : 0.181630\n",
      "epochs : 150\n",
      "loss : 0.181597\n",
      "epochs : 200\n",
      "loss : 0.181565\n",
      "epochs : 250\n",
      "loss : 0.181532\n",
      "epochs : 300\n",
      "loss : 0.181500\n",
      "epochs : 350\n",
      "loss : 0.181468\n",
      "epochs : 400\n",
      "loss : 0.181435\n",
      "epochs : 450\n",
      "loss : 0.181403\n",
      "epochs : 500\n",
      "loss : 0.181371\n",
      "epochs : 550\n",
      "loss : 0.181339\n",
      "epochs : 600\n",
      "loss : 0.181307\n",
      "epochs : 650\n",
      "loss : 0.181276\n",
      "epochs : 700\n",
      "loss : 0.181244\n",
      "epochs : 750\n",
      "loss : 0.181212\n",
      "epochs : 800\n",
      "loss : 0.181181\n",
      "epochs : 850\n",
      "loss : 0.181149\n",
      "epochs : 900\n",
      "loss : 0.181118\n",
      "epochs : 950\n",
      "loss : 0.181087\n"
     ]
    }
   ],
   "source": [
    "epochs = 1000\n",
    "for epoch in range(epochs):\n",
    "    inputs = x_train\n",
    "    target = y_train\n",
    "    \n",
    "    #forward\n",
    "    out = model(inputs)\n",
    "    loss = criterion(out , target)\n",
    "    \n",
    "    #backward\n",
    "    optimizer.zero_grad()\n",
    "    loss.backward()\n",
    "    optimizer.step()\n",
    "    \n",
    "    if (epoch) %50 ==0:\n",
    "        print(f\"epochs : {epoch}\\nloss : {loss:.6f}\")"
   ]
  },
  {
   "cell_type": "code",
   "execution_count": 25,
   "id": "456cfdb5",
   "metadata": {},
   "outputs": [
    {
     "data": {
      "image/png": "[encoded data removed]",
      "text/plain": [
       "<Figure size 1000x500 with 1 Axes>"
      ]
     },
     "metadata": {},
     "output_type": "display_data"
    }
   ],
   "source": [
    "model.eval()\n",
    "with torch.no_grad():\n",
    "    predict = model(x_train)\n",
    "predict = predict.data.numpy()\n",
    "\n",
    "fig = plt.figure(figsize=(10, 5))\n",
    "plt.plot(x_train.numpy(), y_train.numpy(), 'ro', label='Original data')\n",
    "plt.plot(x_train.numpy(), predict, label='Fitting Line')\n",
    "plt.legend() \n",
    "plt.show()\n",
    "\n",
    "\n",
    "torch.save(model.state_dict(), './linear.pth')"
   ]
  },
  {
   "cell_type": "code",
   "execution_count": null,
   "id": "14f09770",
   "metadata": {},
   "outputs": [],
   "source": []
  }
 ],
 "metadata": {
  "kernelspec": {
   "display_name": "Python 3 (ipykernel)",
   "language": "python",
   "name": "python3"
  },
  "language_info": {
   "codemirror_mode": {
    "name": "ipython",
    "version": 3
   },
   "file_extension": ".py",
   "mimetype": "text/x-python",
   "name": "python",
   "nbconvert_exporter": "python",
   "pygments_lexer": "ipython3",
   "version": "3.10.6"
  }
 },
 "nbformat": 4,
 "nbformat_minor": 5
}
